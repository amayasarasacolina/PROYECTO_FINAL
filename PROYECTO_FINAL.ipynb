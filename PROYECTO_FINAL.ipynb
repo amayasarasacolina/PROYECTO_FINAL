{
  "cells": [
    {
      "cell_type": "code",
      "execution_count": 34,
      "id": "5567306c",
      "metadata": {
        "id": "5567306c",
        "outputId": "31453ead-56f5-4134-9794-05209accc955",
        "colab": {
          "base_uri": "https://localhost:8080/",
          "height": 57
        }
      },
      "outputs": [
        {
          "output_type": "execute_result",
          "data": {
            "text/plain": [
              "'2.9.0'"
            ],
            "application/vnd.google.colaboratory.intrinsic+json": {
              "type": "string"
            }
          },
          "metadata": {},
          "execution_count": 34
        }
      ],
      "source": [
        "import keras\n",
        "keras.__version__"
      ]
    },
    {
      "cell_type": "markdown",
      "source": [
        "# Prediciendo la duración de la batería de un movil\n",
        "Vamos a predecir la duración de la batería de un teléfono movil dados algunos datos como los píxeles de la cámara, si tiene o no conexión wifi, la cantidad de cores del procesador, etc. \n",
        "\n",
        "El conjunto de datos tiene un total de 1000 datos, que dividiremos entre 1750 ded entrenamiento (de los cuales 500 serán para validación) y 250 de test. Las 21 carácaterísticas en los datos de entrada (por ejemplo, si tiene o no v) es una característica que tiene una escala diferente. Por ejemplo, algunos valores son proporciones, que toman valores entre 0 y 1, otros toman valores entre 1 y 12, otros entre 0 y 100 ...\n",
        "\n"
      ],
      "metadata": {
        "id": "VxtiL4ISC1UK"
      },
      "id": "VxtiL4ISC1UK"
    },
    {
      "cell_type": "code",
      "source": [
        "import pandas as pd\n",
        "datos=pd.read_csv('train.csv.xls',encoding='latin-1')"
      ],
      "metadata": {
        "id": "Zg6ggG0rFVQb"
      },
      "id": "Zg6ggG0rFVQb",
      "execution_count": 35,
      "outputs": []
    },
    {
      "cell_type": "markdown",
      "source": [
        "Comprobamos que se han importado correctamente, los 2000 datos con 21 características. "
      ],
      "metadata": {
        "id": "ZhYrtySvJEGQ"
      },
      "id": "ZhYrtySvJEGQ"
    },
    {
      "cell_type": "code",
      "source": [
        "datos.shape"
      ],
      "metadata": {
        "id": "8sS4GX92G6J8",
        "outputId": "73c2eed3-b868-48d5-9eaa-ca4db87f06bf",
        "colab": {
          "base_uri": "https://localhost:8080/"
        }
      },
      "id": "8sS4GX92G6J8",
      "execution_count": 36,
      "outputs": [
        {
          "output_type": "execute_result",
          "data": {
            "text/plain": [
              "(2000, 21)"
            ]
          },
          "metadata": {},
          "execution_count": 36
        }
      ]
    },
    {
      "cell_type": "markdown",
      "source": [
        "Separamos los datos en entrenamiento y test y sus correspondientes soluciones, que serán la característica 17 (talk_time) que según explicaba la página donde hemos tomado la base, es el tiempo que dura el móvil desde su última carga. \n"
      ],
      "metadata": {
        "id": "DSpyZcdxLscV"
      },
      "id": "DSpyZcdxLscV"
    },
    {
      "cell_type": "code",
      "source": [
        "labels=datos.talk_time\n",
        "labels.shape\n"
      ],
      "metadata": {
        "id": "ywGEcHJ5ML-g",
        "outputId": "8d388a7f-9a1b-4b49-b9b1-bf1aa8a032ad",
        "colab": {
          "base_uri": "https://localhost:8080/"
        }
      },
      "id": "ywGEcHJ5ML-g",
      "execution_count": 37,
      "outputs": [
        {
          "output_type": "execute_result",
          "data": {
            "text/plain": [
              "(2000,)"
            ]
          },
          "metadata": {},
          "execution_count": 37
        }
      ]
    },
    {
      "cell_type": "code",
      "source": [
        "datos=datos.drop(['talk_time'],axis=1)"
      ],
      "metadata": {
        "id": "dfR2rNJ-M-tu"
      },
      "id": "dfR2rNJ-M-tu",
      "execution_count": 38,
      "outputs": []
    },
    {
      "cell_type": "code",
      "source": [
        "train_datos=datos[:1749]\n",
        "test_datos=datos[1750:]\n",
        "\n",
        "train_labels=labels[:1749]\n",
        "test_labels=labels[1750:]"
      ],
      "metadata": {
        "id": "GD_gBGXimN1C"
      },
      "id": "GD_gBGXimN1C",
      "execution_count": 39,
      "outputs": []
    },
    {
      "cell_type": "markdown",
      "source": [
        "Una vez tenemos los datos separados, vamos a normalizarlos, puesto que cada uno tienen rangos distintos. "
      ],
      "metadata": {
        "id": "qglTtMQPm_9X"
      },
      "id": "qglTtMQPm_9X"
    },
    {
      "cell_type": "code",
      "source": [
        "# Normalizamos basándonos en la característica\n",
        "##############################################\n",
        "# Calculamos la media del primer eje de los datos de entrenamiento\n",
        "mean = train_datos.mean(axis=0)\n",
        "print(\"##### Media de las 21 características de los datos de entrenamiento ##### \")\n",
        "print(mean)\n",
        "# A los datos de entrenamiento le restamos la media\n",
        "train_datos -= mean\n",
        "\n",
        "# Calculamos la desviación estandar del primer eje de los datos de entrenamiento\n",
        "std = train_datos.std(axis=0)\n",
        "print(\"##### Desviación estandar de las 21 características de los datos de entrenamiento ##### \")\n",
        "print(std)\n",
        "# A los datos de entrenamiento los dividimos por la desviación estándar\n",
        "train_datos /= std\n",
        "\n",
        "# ¡¡IMPORTANTE!!: USAMOS LA MEDIA Y LA DESVIACIÓN ESTANDAR DE LOS DATOS DE \n",
        "# ENTRENAMIENTO PARA NORMALIZAR EL SET DE DATOS DE LOS DATOS DE TEST \n",
        "test_datos -= mean\n",
        "test_datos /= std"
      ],
      "metadata": {
        "id": "XZTxyeq8nT_A",
        "outputId": "0e315a50-7208-4e2f-9f0c-7dcc9e5240cb",
        "colab": {
          "base_uri": "https://localhost:8080/"
        }
      },
      "id": "XZTxyeq8nT_A",
      "execution_count": 40,
      "outputs": [
        {
          "output_type": "stream",
          "name": "stdout",
          "text": [
            "##### Media de las 21 características de los datos de entrenamiento ##### \n",
            "battery_power    1243.436821\n",
            "blue                0.485420\n",
            "clock_speed         1.523899\n",
            "dual_sim            0.509434\n",
            "fc                  4.357347\n",
            "four_g              0.523728\n",
            "int_memory         32.207547\n",
            "m_dep               0.500515\n",
            "mobile_wt         140.978273\n",
            "n_cores             4.507719\n",
            "pc                  9.915380\n",
            "px_height         648.325901\n",
            "px_width         1253.442539\n",
            "ram              2132.694683\n",
            "sc_h               12.359634\n",
            "sc_w                5.802173\n",
            "three_g             0.763293\n",
            "touch_screen        0.502573\n",
            "wifi                0.508862\n",
            "price_range         1.514580\n",
            "dtype: float64\n",
            "##### Desviación estandar de las 21 características de los datos de entrenamiento ##### \n",
            "battery_power     438.149513\n",
            "blue                0.499930\n",
            "clock_speed         0.820232\n",
            "dual_sim            0.500054\n",
            "fc                  4.378650\n",
            "four_g              0.499580\n",
            "int_memory         18.098062\n",
            "m_dep               0.287984\n",
            "mobile_wt          35.358892\n",
            "n_cores             2.302514\n",
            "pc                  6.080010\n",
            "px_height         445.236520\n",
            "px_width          429.967750\n",
            "ram              1089.435101\n",
            "sc_h                4.212789\n",
            "sc_w                4.379818\n",
            "three_g             0.425182\n",
            "touch_screen        0.500136\n",
            "wifi                0.500064\n",
            "price_range         1.112360\n",
            "dtype: float64\n"
          ]
        }
      ]
    },
    {
      "cell_type": "markdown",
      "source": [
        "## CREAMOS LA RED\n",
        "\n",
        "Como tenemos una base de datos tan pequeña, vamos a crear una base de datos muy pequeña con únicamente dos capas ocultas. \n",
        " En general, cuantos menos datos de entrenamiento tengamos, peor será el sobreajuste y el uso una red pequeña es una forma de reducir el sobreajuste."
      ],
      "metadata": {
        "id": "7T0MfDsToeWB"
      },
      "id": "7T0MfDsToeWB"
    },
    {
      "cell_type": "code",
      "source": [
        "import tensorflow as tf\n",
        "from keras import models\n",
        "from keras import layers\n",
        "\n",
        "def build_model():\n",
        "    # Porque necesitaremos instanciar el mismo modelo \n",
        "    # múltiples veces, usamos una función para construirlo\n",
        "    model = models.Sequential()\n",
        "    model.add(layers.Dense(64, activation='relu',\n",
        "                           input_shape=(train_datos.shape[1],)))\n",
        "    model.add(layers.Dense(64, activation='relu'))\n",
        "    model.add(layers.Dense(1))\n",
        "    # MSE: Mean Squared Error\n",
        "    # MAE: Mean Absolute Error\n",
        "    model.compile(optimizer='rmsprop', loss='mse', \n",
        "                  metrics=[tf.keras.metrics.MeanAbsoluteError()]) # metrics = ['mae']\n",
        "    return model"
      ],
      "metadata": {
        "id": "i49WNYvoo2Rn"
      },
      "id": "i49WNYvoo2Rn",
      "execution_count": 41,
      "outputs": []
    },
    {
      "cell_type": "markdown",
      "source": [
        "Con estos datos, computamos el problema con las primeras 3/4 partes de los datos de entrenamiento para entrenar y el último 1/4 de los datos para validación"
      ],
      "metadata": {
        "id": "LZDlPLgXpCOu"
      },
      "id": "LZDlPLgXpCOu"
    },
    {
      "cell_type": "code",
      "source": [
        "partial_train_datos = train_datos[:1499]\n",
        "partial_eval_train_datos = train_datos[1500:]\n",
        "partial_train_labels = train_labels[:1499]\n",
        "partial_eval_train_labels= train_labels[1500:]"
      ],
      "metadata": {
        "id": "jp5gh3Bbo5Gv"
      },
      "id": "jp5gh3Bbo5Gv",
      "execution_count": 42,
      "outputs": []
    },
    {
      "cell_type": "code",
      "source": [
        "mymodel = build_model()"
      ],
      "metadata": {
        "id": "seYZCr1dpiPS"
      },
      "id": "seYZCr1dpiPS",
      "execution_count": 43,
      "outputs": []
    },
    {
      "cell_type": "code",
      "source": [
        "history = mymodel.fit(partial_train_datos, partial_train_labels,\n",
        "            validation_data=(partial_eval_train_datos, partial_eval_train_labels),\n",
        "                        epochs=40, batch_size=1)"
      ],
      "metadata": {
        "id": "eI5UG6nVprSf",
        "outputId": "37657941-78b7-40cd-b759-a2bba8c0626c",
        "colab": {
          "base_uri": "https://localhost:8080/"
        }
      },
      "id": "eI5UG6nVprSf",
      "execution_count": 44,
      "outputs": [
        {
          "output_type": "stream",
          "name": "stdout",
          "text": [
            "Epoch 1/40\n",
            "1499/1499 [==============================] - 3s 2ms/step - loss: 39.5040 - mean_absolute_error: 5.2369 - val_loss: 36.6758 - val_mean_absolute_error: 5.1879\n",
            "Epoch 2/40\n",
            "1499/1499 [==============================] - 2s 1ms/step - loss: 30.8687 - mean_absolute_error: 4.7379 - val_loss: 34.5799 - val_mean_absolute_error: 5.0302\n",
            "Epoch 3/40\n",
            "1499/1499 [==============================] - 3s 2ms/step - loss: 30.1036 - mean_absolute_error: 4.6538 - val_loss: 35.0189 - val_mean_absolute_error: 5.0494\n",
            "Epoch 4/40\n",
            "1499/1499 [==============================] - 2s 1ms/step - loss: 29.2522 - mean_absolute_error: 4.6214 - val_loss: 35.5342 - val_mean_absolute_error: 5.1190\n",
            "Epoch 5/40\n",
            "1499/1499 [==============================] - 2s 1ms/step - loss: 28.7376 - mean_absolute_error: 4.5383 - val_loss: 35.5476 - val_mean_absolute_error: 5.1582\n",
            "Epoch 6/40\n",
            "1499/1499 [==============================] - 2s 1ms/step - loss: 27.9017 - mean_absolute_error: 4.5001 - val_loss: 37.1157 - val_mean_absolute_error: 5.1621\n",
            "Epoch 7/40\n",
            "1499/1499 [==============================] - 2s 1ms/step - loss: 27.9992 - mean_absolute_error: 4.4747 - val_loss: 35.3777 - val_mean_absolute_error: 5.1651\n",
            "Epoch 8/40\n",
            "1499/1499 [==============================] - 2s 1ms/step - loss: 27.6080 - mean_absolute_error: 4.4270 - val_loss: 34.8212 - val_mean_absolute_error: 5.0682\n",
            "Epoch 9/40\n",
            "1499/1499 [==============================] - 2s 1ms/step - loss: 27.2561 - mean_absolute_error: 4.4119 - val_loss: 35.0331 - val_mean_absolute_error: 5.0748\n",
            "Epoch 10/40\n",
            "1499/1499 [==============================] - 2s 1ms/step - loss: 26.6838 - mean_absolute_error: 4.3336 - val_loss: 35.8760 - val_mean_absolute_error: 5.1780\n",
            "Epoch 11/40\n",
            "1499/1499 [==============================] - 2s 1ms/step - loss: 26.3393 - mean_absolute_error: 4.2977 - val_loss: 36.1157 - val_mean_absolute_error: 5.1501\n",
            "Epoch 12/40\n",
            "1499/1499 [==============================] - 2s 1ms/step - loss: 25.9063 - mean_absolute_error: 4.2649 - val_loss: 35.2872 - val_mean_absolute_error: 5.1105\n",
            "Epoch 13/40\n",
            "1499/1499 [==============================] - 2s 1ms/step - loss: 25.1682 - mean_absolute_error: 4.1836 - val_loss: 35.4498 - val_mean_absolute_error: 5.0955\n",
            "Epoch 14/40\n",
            "1499/1499 [==============================] - 2s 1ms/step - loss: 24.7260 - mean_absolute_error: 4.1193 - val_loss: 36.6266 - val_mean_absolute_error: 5.1112\n",
            "Epoch 15/40\n",
            "1499/1499 [==============================] - 2s 1ms/step - loss: 23.9258 - mean_absolute_error: 4.0654 - val_loss: 35.9361 - val_mean_absolute_error: 5.1353\n",
            "Epoch 16/40\n",
            "1499/1499 [==============================] - 2s 1ms/step - loss: 22.8862 - mean_absolute_error: 3.9166 - val_loss: 36.1312 - val_mean_absolute_error: 5.1085\n",
            "Epoch 17/40\n",
            "1499/1499 [==============================] - 2s 1ms/step - loss: 22.5794 - mean_absolute_error: 3.9006 - val_loss: 37.4512 - val_mean_absolute_error: 5.2184\n",
            "Epoch 18/40\n",
            "1499/1499 [==============================] - 2s 1ms/step - loss: 21.7821 - mean_absolute_error: 3.8374 - val_loss: 36.6411 - val_mean_absolute_error: 5.0783\n",
            "Epoch 19/40\n",
            "1499/1499 [==============================] - 2s 1ms/step - loss: 21.0378 - mean_absolute_error: 3.7358 - val_loss: 36.8930 - val_mean_absolute_error: 5.0739\n",
            "Epoch 20/40\n",
            "1499/1499 [==============================] - 2s 1ms/step - loss: 20.4369 - mean_absolute_error: 3.6519 - val_loss: 38.7959 - val_mean_absolute_error: 5.2476\n",
            "Epoch 21/40\n",
            "1499/1499 [==============================] - 2s 1ms/step - loss: 19.8233 - mean_absolute_error: 3.5751 - val_loss: 38.7630 - val_mean_absolute_error: 5.2093\n",
            "Epoch 22/40\n",
            "1499/1499 [==============================] - 2s 1ms/step - loss: 18.9616 - mean_absolute_error: 3.4847 - val_loss: 40.2040 - val_mean_absolute_error: 5.2799\n",
            "Epoch 23/40\n",
            "1499/1499 [==============================] - 2s 1ms/step - loss: 18.4810 - mean_absolute_error: 3.4296 - val_loss: 38.9994 - val_mean_absolute_error: 5.2282\n",
            "Epoch 24/40\n",
            "1499/1499 [==============================] - 2s 1ms/step - loss: 17.6400 - mean_absolute_error: 3.3302 - val_loss: 40.4509 - val_mean_absolute_error: 5.3923\n",
            "Epoch 25/40\n",
            "1499/1499 [==============================] - 3s 2ms/step - loss: 17.3025 - mean_absolute_error: 3.2893 - val_loss: 39.3619 - val_mean_absolute_error: 5.2226\n",
            "Epoch 26/40\n",
            "1499/1499 [==============================] - 2s 1ms/step - loss: 16.3383 - mean_absolute_error: 3.1873 - val_loss: 39.3060 - val_mean_absolute_error: 5.1968\n",
            "Epoch 27/40\n",
            "1499/1499 [==============================] - 2s 1ms/step - loss: 15.8530 - mean_absolute_error: 3.1506 - val_loss: 41.2994 - val_mean_absolute_error: 5.3924\n",
            "Epoch 28/40\n",
            "1499/1499 [==============================] - 2s 1ms/step - loss: 15.5874 - mean_absolute_error: 3.1025 - val_loss: 44.2121 - val_mean_absolute_error: 5.4750\n",
            "Epoch 29/40\n",
            "1499/1499 [==============================] - 2s 1ms/step - loss: 15.0173 - mean_absolute_error: 3.0154 - val_loss: 44.3540 - val_mean_absolute_error: 5.4653\n",
            "Epoch 30/40\n",
            "1499/1499 [==============================] - 2s 1ms/step - loss: 14.4028 - mean_absolute_error: 2.9252 - val_loss: 44.7531 - val_mean_absolute_error: 5.5453\n",
            "Epoch 31/40\n",
            "1499/1499 [==============================] - 2s 1ms/step - loss: 13.8480 - mean_absolute_error: 2.9034 - val_loss: 47.3827 - val_mean_absolute_error: 5.8044\n",
            "Epoch 32/40\n",
            "1499/1499 [==============================] - 2s 1ms/step - loss: 13.4709 - mean_absolute_error: 2.8482 - val_loss: 44.5374 - val_mean_absolute_error: 5.5153\n",
            "Epoch 33/40\n",
            "1499/1499 [==============================] - 2s 1ms/step - loss: 12.8500 - mean_absolute_error: 2.7707 - val_loss: 44.7584 - val_mean_absolute_error: 5.5374\n",
            "Epoch 34/40\n",
            "1499/1499 [==============================] - 2s 1ms/step - loss: 12.3721 - mean_absolute_error: 2.7048 - val_loss: 45.4648 - val_mean_absolute_error: 5.5448\n",
            "Epoch 35/40\n",
            "1499/1499 [==============================] - 2s 1ms/step - loss: 11.9514 - mean_absolute_error: 2.6618 - val_loss: 47.5123 - val_mean_absolute_error: 5.6436\n",
            "Epoch 36/40\n",
            "1499/1499 [==============================] - 2s 1ms/step - loss: 11.6667 - mean_absolute_error: 2.6137 - val_loss: 46.9628 - val_mean_absolute_error: 5.6675\n",
            "Epoch 37/40\n",
            "1499/1499 [==============================] - 2s 1ms/step - loss: 11.1568 - mean_absolute_error: 2.5452 - val_loss: 46.1494 - val_mean_absolute_error: 5.5686\n",
            "Epoch 38/40\n",
            "1499/1499 [==============================] - 2s 1ms/step - loss: 10.6530 - mean_absolute_error: 2.4939 - val_loss: 48.1705 - val_mean_absolute_error: 5.7255\n",
            "Epoch 39/40\n",
            "1499/1499 [==============================] - 2s 1ms/step - loss: 10.2254 - mean_absolute_error: 2.4653 - val_loss: 47.4309 - val_mean_absolute_error: 5.6317\n",
            "Epoch 40/40\n",
            "1499/1499 [==============================] - 2s 1ms/step - loss: 9.9430 - mean_absolute_error: 2.4074 - val_loss: 49.7591 - val_mean_absolute_error: 5.8708\n"
          ]
        }
      ]
    },
    {
      "cell_type": "code",
      "source": [
        "mae_history = history.history['val_mean_absolute_error']"
      ],
      "metadata": {
        "id": "iGJBKsErp6hB"
      },
      "id": "iGJBKsErp6hB",
      "execution_count": null,
      "outputs": []
    },
    {
      "cell_type": "code",
      "source": [
        "mse_history = history.history['val_loss']"
      ],
      "metadata": {
        "id": "0NM0QWErp98u"
      },
      "id": "0NM0QWErp98u",
      "execution_count": null,
      "outputs": []
    },
    {
      "cell_type": "markdown",
      "source": [
        "Confrontamos en una gráfica las épocas frente a la pérdida pérdida (MSE)"
      ],
      "metadata": {
        "id": "W0kHJ443qE6p"
      },
      "id": "W0kHJ443qE6p"
    },
    {
      "cell_type": "code",
      "source": [
        "import matplotlib.pyplot as plt\n",
        "\n",
        "plt.plot(range(1, len(mse_history) + 1), mse_history)\n",
        "plt.xlabel('Epochs')\n",
        "plt.ylabel('Validación MSE')\n",
        "plt.show()"
      ],
      "metadata": {
        "id": "sNPBLN62qETp"
      },
      "id": "sNPBLN62qETp",
      "execution_count": null,
      "outputs": []
    },
    {
      "cell_type": "code",
      "source": [
        "import matplotlib.pyplot as plt\n",
        "\n",
        "loss = history.history['loss']\n",
        "val_loss = history.history['val_loss']\n",
        "\n",
        "epochs = range(1, len(loss) + 1)\n",
        "\n",
        "plt.plot(epochs, loss, 'bo', label='Pérdida del entreno')\n",
        "plt.plot(epochs, val_loss, 'b', label='Pérdida de la validación')\n",
        "plt.title('Perdidas del entreno y la validación')\n",
        "plt.xlabel('Épocas')\n",
        "plt.ylabel('Pérdida')\n",
        "plt.legend()\n",
        "\n",
        "plt.show()"
      ],
      "metadata": {
        "id": "iysI43zEqVQb"
      },
      "id": "iysI43zEqVQb",
      "execution_count": null,
      "outputs": []
    },
    {
      "cell_type": "markdown",
      "source": [
        "Confrontamos en una gráfica las épocas contra la métrica de error absoluto medio (MAE)"
      ],
      "metadata": {
        "id": "BZnSo8GiqXi7"
      },
      "id": "BZnSo8GiqXi7"
    },
    {
      "cell_type": "code",
      "source": [
        " import matplotlib.pyplot as plt\n",
        "\n",
        "plt.plot(range(1, len(mae_history) + 1), mae_history)\n",
        "plt.xlabel('Epochs')\n",
        "plt.ylabel('Validación MAE')\n",
        "plt.show()"
      ],
      "metadata": {
        "id": "d7OI2-P4qXy9"
      },
      "id": "d7OI2-P4qXy9",
      "execution_count": null,
      "outputs": []
    },
    {
      "cell_type": "code",
      "source": [
        "import matplotlib.pyplot as plt\n",
        "\n",
        "loss = history.history['mean_absolute_error']\n",
        "val_loss = history.history['val_mean_absolute_error']\n",
        "\n",
        "epochs = range(1, len(loss) + 1)\n",
        "\n",
        "plt.plot(epochs, loss, 'bo', label='Pérdida del entreno')\n",
        "plt.plot(epochs, val_loss, 'b', label='Pérdida de la validación')\n",
        "plt.title('Perdidas del entreno y la validación')\n",
        "plt.xlabel('Épocas')\n",
        "plt.ylabel('Pérdida')\n",
        "plt.legend()\n",
        "\n",
        "plt.show()"
      ],
      "metadata": {
        "id": "g0K_QQ4hqfJB"
      },
      "id": "g0K_QQ4hqfJB",
      "execution_count": null,
      "outputs": []
    },
    {
      "cell_type": "code",
      "source": [],
      "metadata": {
        "id": "DqhZ_1YMqiIO"
      },
      "id": "DqhZ_1YMqiIO",
      "execution_count": null,
      "outputs": []
    }
  ],
  "metadata": {
    "kernelspec": {
      "display_name": "Python 3 (ipykernel)",
      "language": "python",
      "name": "python3"
    },
    "language_info": {
      "codemirror_mode": {
        "name": "ipython",
        "version": 3
      },
      "file_extension": ".py",
      "mimetype": "text/x-python",
      "name": "python",
      "nbconvert_exporter": "python",
      "pygments_lexer": "ipython3",
      "version": "3.8.8"
    },
    "colab": {
      "provenance": []
    }
  },
  "nbformat": 4,
  "nbformat_minor": 5
}